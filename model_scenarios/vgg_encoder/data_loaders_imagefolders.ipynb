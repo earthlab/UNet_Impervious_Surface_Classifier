{
 "cells": [
  {
   "cell_type": "code",
   "execution_count": 1,
   "metadata": {},
   "outputs": [
    {
     "name": "stderr",
     "output_type": "stream",
     "text": [
      "C:\\software\\anaconda3\\envs\\eapy_gbdx\\lib\\importlib\\_bootstrap.py:219: RuntimeWarning: numpy.ufunc size changed, may indicate binary incompatibility. Expected 192 from C header, got 216 from PyObject\n",
      "  return f(*args, **kwds)\n",
      "C:\\software\\anaconda3\\envs\\eapy_gbdx\\lib\\importlib\\_bootstrap.py:219: RuntimeWarning: numpy.ufunc size changed, may indicate binary incompatibility. Expected 192 from C header, got 216 from PyObject\n",
      "  return f(*args, **kwds)\n",
      "C:\\software\\anaconda3\\envs\\eapy_gbdx\\lib\\importlib\\_bootstrap.py:219: RuntimeWarning: numpy.ufunc size changed, may indicate binary incompatibility. Expected 192 from C header, got 216 from PyObject\n",
      "  return f(*args, **kwds)\n",
      "C:\\software\\anaconda3\\envs\\eapy_gbdx\\lib\\importlib\\_bootstrap.py:219: RuntimeWarning: numpy.ufunc size changed, may indicate binary incompatibility. Expected 192 from C header, got 216 from PyObject\n",
      "  return f(*args, **kwds)\n",
      "C:\\software\\anaconda3\\envs\\eapy_gbdx\\lib\\importlib\\_bootstrap.py:219: RuntimeWarning: numpy.ufunc size changed, may indicate binary incompatibility. Expected 216, got 192\n",
      "  return f(*args, **kwds)\n"
     ]
    }
   ],
   "source": [
    "%matplotlib inline\n",
    "from pylab import *\n",
    "# import cv2\n",
    "import rasterio as rio\n",
    "\n",
    "rcParams['figure.figsize'] = 10, 10\n",
    "\n",
    "font = {'family' : 'normal',\n",
    "        'weight' : 'medium',\n",
    "        'size'   : 14}\n",
    "\n",
    "matplotlib.rc('font', **font)\n",
    "\n",
    "import glob\n",
    "import os,sys\n",
    "from matplotlib import pyplot as plt\n",
    "import numpy as np\n",
    "from scipy import misc\n",
    "import fiona\n",
    "from shapely.geometry import shape\n",
    "import shapely\n",
    "from rasterio.mask import mask\n",
    "from pyproj import Proj, transform\n",
    "\n",
    "import rasterio\n",
    "\n",
    "# add the unet helpers\n",
    "sys.path.append('../')\n",
    "from test_unet_helpers import *\n",
    "\n",
    "# torch stuff\n",
    "import torch\n",
    "from torch import nn\n",
    "from torch.nn import functional as F\n",
    "import torch\n",
    "from torchvision import models, datasets\n",
    "import torchvision\n",
    "from torchvision.transforms import ToTensor, Normalize, Compose\n",
    "from utils import variable"
   ]
  },
  {
   "cell_type": "code",
   "execution_count": 34,
   "metadata": {},
   "outputs": [],
   "source": [
    "train_folder = r'D:\\projects\\RD\\debug_IS_segmentation\\tiles_256x256\\train'\n",
    "test_folder = r'D:\\projects\\RD\\debug_IS_segmentation\\tiles_256x256\\test'\n",
    "val_folder = r'D:\\projects\\RD\\debug_IS_segmentation\\tiles_256x256\\val'"
   ]
  },
  {
   "cell_type": "code",
   "execution_count": 14,
   "metadata": {},
   "outputs": [],
   "source": [
    "from glob import glob \n",
    "\n",
    "class DG_GT_Dataset(Dataset):\n",
    "    \"\"\"Dataset class for ignition types (Y var)\"\"\"\n",
    "    \n",
    "    def __init__(self, data_dir, img_transform=None, gt_transform=None):\n",
    "        \"\"\" \n",
    "        Args:\n",
    "            data_dir(string): the folder containing the image files\n",
    "            transform (callable, optional): Optional transform to  be applied to image data\n",
    "            ig_types (iterable, optional): types of ignition rasters to include\n",
    "            x_var (iterable, optional): list of predictor variable names\n",
    "            land_mask (string, optional): defines whether or not to return land mask\n",
    "        \"\"\"\n",
    "        \n",
    "        # some sanity checks\n",
    "        assert os.path.exists(data_dir)\n",
    "        \n",
    "        self.img_files = glob(data_dir + '/dg*.tif')\n",
    "        self.gt_files = glob(data_dir + '/gt*.tif')\n",
    "        self.img_transform = img_transform\n",
    "        self.gt_transform = gt_transform\n",
    "        \n",
    "        assert len(self.img_files) == len(self.gt_files)\n",
    "        \n",
    "    \n",
    "    def __getitem__(self, idx):\n",
    "        \n",
    "        \"\"\"\n",
    "            Files are organized as <var_type>_<year>_<month>_t<tileNumber>.tif, e.g., Arson_1992_1_t1\n",
    "            A single dataset needs to be constructed for a given ignition type, year, month, and tile number\n",
    "        \"\"\"\n",
    "        \n",
    "        img_file = self.img_files[idx]\n",
    "        gt_file = self.gt_files[idx]\n",
    "        \n",
    "        with rio.open(img_file) as src:\n",
    "            img_arr = src.read()\n",
    "            \n",
    "        with rio.open(gt_file) as src:\n",
    "            gt_arr = src.read()\n",
    "\n",
    "        if (self.img_transform is not None):\n",
    "            return (self.img_transform(torch.from_numpy(img_arr)), \n",
    "                    self.gt_transform(torch.from_numpy(gt_arr)))   \n",
    "        else:\n",
    "            return (torch.from_numpy(img_arr), torch.from_numpy(gt_arr)) # return X, Y, Mask (Mask uses LandMask in X-var folder)\n",
    "        \n",
    "        \n",
    "    def __len__(self):\n",
    "        return len(self.img_files)"
   ]
  },
  {
   "cell_type": "code",
   "execution_count": 39,
   "metadata": {},
   "outputs": [],
   "source": [
    "train_ds = DG_GT_Dataset(train_folder)\n",
    "test_ds = DG_GT_Dataset(test_folder)\n",
    "val_ds = DG_GT_Dataset(val_folder)"
   ]
  },
  {
   "cell_type": "code",
   "execution_count": 41,
   "metadata": {},
   "outputs": [
    {
     "data": {
      "text/plain": [
       "(torch.Size([1, 256, 256]),\n",
       " torch.Size([1, 256, 256]),\n",
       " torch.Size([1, 256, 256]),\n",
       " torch.Size([8, 256, 256]),\n",
       " torch.Size([8, 256, 256]),\n",
       " torch.Size([8, 256, 256]))"
      ]
     },
     "execution_count": 41,
     "metadata": {},
     "output_type": "execute_result"
    }
   ],
   "source": [
    "train_ds[0][1].shape, test_ds[0][1].shape, val_ds[0][1].shape, \\\n",
    "train_ds[0][0].shape, test_ds[0][0].shape, val_ds[0][0].shape"
   ]
  },
  {
   "cell_type": "code",
   "execution_count": 43,
   "metadata": {},
   "outputs": [],
   "source": [
    "means = []\n",
    "for i in range(600):\n",
    "    means.append(train_ds[i][0].mean())    "
   ]
  },
  {
   "cell_type": "code",
   "execution_count": 44,
   "metadata": {},
   "outputs": [
    {
     "data": {
      "image/png": "[encoded data removed]",
      "text/plain": [
       "<Figure size 432x288 with 1 Axes>"
      ]
     },
     "metadata": {
      "needs_background": "light"
     },
     "output_type": "display_data"
    }
   ],
   "source": [
    "plt.hist(means, bins=100)\n",
    "plt.show()"
   ]
  },
  {
   "cell_type": "code",
   "execution_count": 47,
   "metadata": {},
   "outputs": [
    {
     "data": {
      "image/png": "[encoded data removed]",
      "text/plain": [
       "<Figure size 432x288 with 1 Axes>"
      ]
     },
     "metadata": {
      "needs_background": "light"
     },
     "output_type": "display_data"
    }
   ],
   "source": [
    "means = []\n",
    "for i in range(600):\n",
    "    means.append(train_ds[i][1].numpy().astype('float').mean()) \n",
    "\n",
    "plt.hist(means, bins=100)\n",
    "plt.show()"
   ]
  },
  {
   "cell_type": "code",
   "execution_count": null,
   "metadata": {},
   "outputs": [],
   "source": []
  }
 ],
 "metadata": {
  "kernelspec": {
   "display_name": "Python3 (eapy_gbdx)",
   "language": "python",
   "name": "eapy_gbdx"
  },
  "language_info": {
   "codemirror_mode": {
    "name": "ipython",
    "version": 3
   },
   "file_extension": ".py",
   "mimetype": "text/x-python",
   "name": "python",
   "nbconvert_exporter": "python",
   "pygments_lexer": "ipython3",
   "version": "3.6.7"
  }
 },
 "nbformat": 4,
 "nbformat_minor": 2
}

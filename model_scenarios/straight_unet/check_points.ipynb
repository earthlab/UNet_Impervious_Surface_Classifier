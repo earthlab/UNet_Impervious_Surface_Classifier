{
 "cells": [
  {
   "cell_type": "code",
   "execution_count": 2,
   "metadata": {},
   "outputs": [
    {
     "name": "stderr",
     "output_type": "stream",
     "text": [
      "C:\\software\\anaconda3\\envs\\eapy_gbdx\\lib\\site-packages\\gbdxtools\\images\\meta.py:21: UserWarning: ShareDict has been deprecated in favor of HighLevelGraph and will be removed in future versions\n",
      "  from dask import sharedict, optimization\n"
     ]
    }
   ],
   "source": [
    "import os, sys\n",
    "import numpy as np\n",
    "from matplotlib import pyplot as plt\n",
    "from gbdxtools import CatalogImage, Interface\n",
    "import pandas as pd\n",
    "import geopandas as gpd\n",
    "import numpy as np\n",
    "\n",
    "gbdx = Interface()"
   ]
  },
  {
   "cell_type": "code",
   "execution_count": 3,
   "metadata": {},
   "outputs": [],
   "source": [
    "## load the data\n",
    "coords = np.loadtxt(r'D:\\projects\\RD\\debug_IS_segmentation\\lonlat_MS_coords_256x256.txt')\n",
    "coords_pan = np.loadtxt(r'D:\\projects\\RD\\debug_IS_segmentation\\lonlat_PAN_coords_1064x1064.txt')"
   ]
  },
  {
   "cell_type": "code",
   "execution_count": 4,
   "metadata": {},
   "outputs": [
    {
     "data": {
      "text/plain": [
       "array([[ 3.64590011e-06, -3.70000000e-06],\n",
       "       [ 3.64590011e-06, -3.70000000e-06],\n",
       "       [ 3.64590011e-06, -3.70000000e-06],\n",
       "       ...,\n",
       "       [ 3.64590011e-06, -3.70000000e-06],\n",
       "       [ 3.64590011e-06, -3.70000000e-06],\n",
       "       [ 3.64590011e-06, -3.70000000e-06]])"
      ]
     },
     "execution_count": 4,
     "metadata": {},
     "output_type": "execute_result"
    }
   ],
   "source": [
    "coords - coords_pan"
   ]
  },
  {
   "cell_type": "code",
   "execution_count": null,
   "metadata": {},
   "outputs": [],
   "source": []
  },
  {
   "cell_type": "code",
   "execution_count": null,
   "metadata": {},
   "outputs": [],
   "source": []
  },
  {
   "cell_type": "code",
   "execution_count": null,
   "metadata": {},
   "outputs": [],
   "source": []
  },
  {
   "cell_type": "code",
   "execution_count": null,
   "metadata": {},
   "outputs": [],
   "source": []
  },
  {
   "cell_type": "code",
   "execution_count": null,
   "metadata": {},
   "outputs": [],
   "source": []
  },
  {
   "cell_type": "code",
   "execution_count": null,
   "metadata": {},
   "outputs": [],
   "source": []
  },
  {
   "cell_type": "code",
   "execution_count": null,
   "metadata": {},
   "outputs": [],
   "source": []
  },
  {
   "cell_type": "code",
   "execution_count": null,
   "metadata": {},
   "outputs": [],
   "source": []
  },
  {
   "cell_type": "code",
   "execution_count": 56,
   "metadata": {},
   "outputs": [
    {
     "name": "stdout",
     "output_type": "stream",
     "text": [
      "ordering:  1030010036314500\n",
      "ordering:  1030010045AC3E00\n",
      "ordering:  1030010057062200\n"
     ]
    }
   ],
   "source": [
    "# 057197201010_01_assembly_EXT_NEL_LULC.tif, west tile, 2014-10-31T18:06:56.803Z, 1030010036314500\n",
    "# 056555743010_01_assembly_EXT_NEL_LULC.tif, east tile, 2015-06-29T18:04:32.667Z, 1030010045AC3E00\n",
    "# 055530875010_01_assembly_EXT_NEL_LULC.tif, big strip, 2016-07-24T17:49:10.070Z, 1030010057062200\n",
    "dg_ids = ['1030010036314500', '1030010045AC3E00', '1030010057062200']\n",
    "\n",
    "# try to read the metadata. if it fails, order it\n",
    "order_ids = []\n",
    "for i in dg_ids:\n",
    "    try:\n",
    "        CatalogImage(i)\n",
    "    except:\n",
    "        print('ordering: ', i)\n",
    "        order_ids.append(gbdx.ordering.order(i))"
   ]
  },
  {
   "cell_type": "code",
   "execution_count": 66,
   "metadata": {},
   "outputs": [
    {
     "name": "stdout",
     "output_type": "stream",
     "text": [
      "[{'acquisition_id': '1030010036314500', 'state': 'delivered', 'location': 's3://receiving-dgcs-tdgplatform-com/059570483010_01_003'}]\n",
      "[{'acquisition_id': '1030010045AC3E00', 'state': 'delivered', 'location': 's3://receiving-dgcs-tdgplatform-com/059570484010_01_003'}]\n",
      "[{'acquisition_id': '1030010057062200', 'state': 'submitted', 'location': 'not_delivered'}]\n"
     ]
    }
   ],
   "source": [
    "for i in order_ids:\n",
    "    print(gbdx.ordering.status(i))\n",
    "    "
   ]
  },
  {
   "cell_type": "code",
   "execution_count": 61,
   "metadata": {},
   "outputs": [
    {
     "name": "stdout",
     "output_type": "stream",
     "text": [
      "False\n",
      "False\n",
      "False\n"
     ]
    }
   ],
   "source": [
    "for i in dg_ids:\n",
    "    ordered = CatalogImage.is_ordered('i')\n",
    "    print(ordered)\n"
   ]
  },
  {
   "cell_type": "code",
   "execution_count": null,
   "metadata": {},
   "outputs": [],
   "source": [
    "# for when it does work...\n",
    "dict_list = []\n",
    "for i in dg_ids:\n",
    "    test_dict = {}\n",
    "    try:\n",
    "        meta = CatalogImage(i).metadata\n",
    "        for k in sample_meta.keys():\n",
    "            test_dict.update(sample_meta[k])\n",
    "            \n",
    "    except:\n",
    "        pass\n",
    "    \n",
    "    test_dict['tdi'] = ','.join([str(t) for t in test_dict['tdiLevels']])\n",
    "    test_dict['bandAlias'] = ','.join([str(t) for t in test_dict['bandAliases']])\n",
    "    test_dict['effectBandwidths'] = ','.join([str(t) for t in test_dict['effectiveBandwidths']])\n",
    "    test_dict['abCalFactors'] = ','.join([str(t) for t in test_dict['absoluteCalibrationFactors']])\n",
    "    test_dict.pop('tdiLevels')\n",
    "    test_dict.pop('bandAliases')\n",
    "    test_dict.pop('effectiveBandwidths')\n",
    "    test_dict.pop('absoluteCalibrationFactors')\n",
    "    \n",
    "    dict_list.append(test_dict)\n",
    "    \n",
    "dg_df = pd.DataFrame(dict_list)"
   ]
  },
  {
   "cell_type": "code",
   "execution_count": null,
   "metadata": {},
   "outputs": [],
   "source": []
  },
  {
   "cell_type": "code",
   "execution_count": null,
   "metadata": {},
   "outputs": [],
   "source": []
  },
  {
   "cell_type": "code",
   "execution_count": 21,
   "metadata": {},
   "outputs": [
    {
     "data": {
      "text/plain": [
       "dict_keys(['image', 'georef', 'rpcs'])"
      ]
     },
     "execution_count": 21,
     "metadata": {},
     "output_type": "execute_result"
    }
   ],
   "source": [
    "sample_meta.keys()"
   ]
  },
  {
   "cell_type": "code",
   "execution_count": 47,
   "metadata": {},
   "outputs": [
    {
     "name": "stdout",
     "output_type": "stream",
     "text": [
      "image\n",
      "georef\n",
      "rpcs\n"
     ]
    },
    {
     "data": {
      "text/plain": [
       "[0.009295654,\n",
       " 0.01783568,\n",
       " 0.01364197,\n",
       " 0.006810718,\n",
       " 0.01103623,\n",
       " 0.006063145,\n",
       " 0.0122438,\n",
       " 0.009042234]"
      ]
     },
     "execution_count": 47,
     "metadata": {},
     "output_type": "execute_result"
    }
   ],
   "source": [
    "test_dict = {}\n",
    "try:\n",
    "\n",
    "    for k in sample_meta.keys():\n",
    "        print(k)\n",
    "        test_dict.update(sample_meta[k])\n",
    "except:\n",
    "    pass\n",
    "\n",
    "test_dict['tdi'] = ','.join([str(t) for t in test_dict['tdiLevels']])\n",
    "test_dict['bandAlias'] = ','.join([str(t) for t in test_dict['bandAliases']])\n",
    "test_dict['effectBandwidths'] = ','.join([str(t) for t in test_dict['effectiveBandwidths']])\n",
    "test_dict['abCalFactors'] = ','.join([str(t) for t in test_dict['absoluteCalibrationFactors']])\n",
    "test_dict.pop('tdiLevels')\n",
    "test_dict.pop('bandAliases')\n",
    "test_dict.pop('effectiveBandwidths')\n",
    "test_dict.pop('absoluteCalibrationFactors')"
   ]
  },
  {
   "cell_type": "code",
   "execution_count": 54,
   "metadata": {},
   "outputs": [
    {
     "data": {
      "text/plain": [
       "0    2b453c7c-fdd4-40a2-b5ed-69662ee219a9\n",
       "1    2b453c7c-fdd4-40a2-b5ed-69662ee219a9\n",
       "Name: imageId, dtype: object"
      ]
     },
     "execution_count": 54,
     "metadata": {},
     "output_type": "execute_result"
    }
   ],
   "source": [
    "pd.DataFrame([test_dict, test_dict])['imageId']"
   ]
  },
  {
   "cell_type": "code",
   "execution_count": 44,
   "metadata": {},
   "outputs": [
    {
     "data": {
      "text/plain": [
       "{'imageId': '2b453c7c-fdd4-40a2-b5ed-69662ee219a9',\n",
       " 'version': 1.1,\n",
       " 'profileName': 'georectified_image',\n",
       " 'tileBucketName': 'rda-images-1',\n",
       " 'tilePartition': '0000',\n",
       " 'nativeTileFileFormat': 'TIF',\n",
       " 'tileXOffset': 0,\n",
       " 'tileYOffset': 0,\n",
       " 'numXTiles': 47,\n",
       " 'numYTiles': 134,\n",
       " 'tileXSize': 256,\n",
       " 'tileYSize': 256,\n",
       " 'numBands': 8,\n",
       " 'dataType': 'FLOAT',\n",
       " 'imageHeight': 34159,\n",
       " 'imageWidth': 11648,\n",
       " 'sensorPlatformName': 'WV02',\n",
       " 'sensorName': '8-band (Coastal, Blue, Green, Yellow, Red, Red-edge, NIR1, NIR2) Multispectral',\n",
       " 'vendorName': 'DigitalGlobe, Inc.',\n",
       " 'vendorDatasetIdentifier': 'LV1B:058632059010_01_P001:1030010057062200:A0100103CCE29B00',\n",
       " 'acquisitionDate': '2016-07-24T17:49:10.240Z',\n",
       " 'colorInterpretation': 'WORLDVIEW_8_BAND',\n",
       " 'imageBoundsWGS84': 'POLYGON ((-105.11197591164212 40.01392641, -104.91149470431189 40.01392641, -104.91149470431189 39.425993927067914, -105.11197591164212 39.425993927067914, -105.11197591164212 40.01392641))',\n",
       " 'groundSampleDistanceMeters': 1.927,\n",
       " 'minX': -1,\n",
       " 'minY': 0,\n",
       " 'maxX': 11646,\n",
       " 'maxY': 34158,\n",
       " 'minTileX': -1,\n",
       " 'minTileY': 0,\n",
       " 'maxTileX': 45,\n",
       " 'maxTileY': 133,\n",
       " 'sunAzimuth': 134.8,\n",
       " 'sunElevation': 63.9,\n",
       " 'satAzimuth': 109.4,\n",
       " 'satElevation': 77.5,\n",
       " 'cloudCover': 0.0,\n",
       " 'offNadirAngle': 11.0,\n",
       " 'sensorAlias': 'WV02_MULTI',\n",
       " 'oneBResamplingKernel': 'MTF',\n",
       " 'pniirs': 3.1,\n",
       " 'spatialReferenceSystemCode': 'EPSG:4326',\n",
       " 'scaleX': 1.7211642112827883e-05,\n",
       " 'scaleY': -1.7211642112827883e-05,\n",
       " 'translateX': -105.1119587,\n",
       " 'translateY': 40.01392641,\n",
       " 'shearX': 0.0,\n",
       " 'shearY': 0.0,\n",
       " 'tdi': '24.0,10.0,10.0,18.0,10.0,18.0,10.0,24.0',\n",
       " 'bandAlias': 'C,B,G,Y,R,RE,N,N2',\n",
       " 'effectBandwidths': '0.0473,0.0543,0.063,0.0374,0.0574,0.0393,0.0989,0.0996',\n",
       " 'abCalFactors': '0.009295654,0.01783568,0.01364197,0.006810718,0.01103623,0.006063145,0.0122438,0.009042234'}"
      ]
     },
     "execution_count": 44,
     "metadata": {},
     "output_type": "execute_result"
    }
   ],
   "source": [
    "test_dict"
   ]
  },
  {
   "cell_type": "code",
   "execution_count": null,
   "metadata": {},
   "outputs": [],
   "source": []
  }
 ],
 "metadata": {
  "kernelspec": {
   "display_name": "Python3 (eapy_gbdx)",
   "language": "python",
   "name": "eapy_gbdx"
  },
  "language_info": {
   "codemirror_mode": {
    "name": "ipython",
    "version": 3
   },
   "file_extension": ".py",
   "mimetype": "text/x-python",
   "name": "python",
   "nbconvert_exporter": "python",
   "pygments_lexer": "ipython3",
   "version": "3.6.7"
  }
 },
 "nbformat": 4,
 "nbformat_minor": 2
}
